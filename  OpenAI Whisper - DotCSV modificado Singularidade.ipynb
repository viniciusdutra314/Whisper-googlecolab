{
 "cells": [
  {
   "cell_type": "markdown",
   "id": "88dd6bc3",
   "metadata": {},
   "source": [
    "#🗣️ **Whisper** - *Notebook criado por [DotCSV](https://www.youtube.com/channel/UCy5znSnfMsDwaLlROnZ7Qbg) e traduzido pelo Singularidade*"
   ]
  },
  {
   "cell_type": "markdown",
   "id": "f3c815fa",
   "metadata": {},
   "source": [
    "🚨 Deixe ativado a **Aceleração por Hardware** com GPU `\"Ambiente de Execução\" > \"Alterar o tipo de ambiente de execução\"`"
   ]
  },
  {
   "cell_type": "code",
   "execution_count": null,
   "id": "d767eaae",
   "metadata": {},
   "outputs": [],
   "source": [
    "#@title ⚙️ Execute para instalar os módulos necessários.\n",
    "\"\"\"\n",
    "To write this piece of code I took inspiration/code from a lot of places.\n",
    "It was late night, so I'm not sure how much I created or just copied o.O\n",
    "Here are some of the possible references:\n",
    "https://blog.addpipe.com/recording-audio-in-the-browser-using-pure-html5-and-minimal-javascript/\n",
    "https://stackoverflow.com/a/18650249\n",
    "https://hacks.mozilla.org/2014/06/easy-audio-capture-with-the-mediarecorder-api/\n",
    "https://air.ghost.io/recording-to-an-audio-file-using-html5-and-js/\n",
    "https://stackoverflow.com/a/49019356\n",
    "\"\"\"\n",
    "\n",
    "!pip install git+https://github.com/openai/whisper.git\n",
    "!pip install jiwer\n",
    "\n",
    "from IPython.display import HTML, Audio\n",
    "from google.colab.output import eval_js\n",
    "from base64 import b64decode\n",
    "import numpy as np\n",
    "from scipy.io.wavfile import read as wav_read\n",
    "import io\n",
    "import ffmpeg\n",
    "\n",
    "AUDIO_HTML = \"\"\"\n",
    "<script>\n",
    "var my_div = document.createElement(\"DIV\");\n",
    "var my_p = document.createElement(\"P\");\n",
    "var my_btn = document.createElement(\"BUTTON\");\n",
    "var t = document.createTextNode(\"Press to start recording\");\n",
    "\n",
    "my_btn.appendChild(t);\n",
    "//my_p.appendChild(my_btn);\n",
    "my_div.appendChild(my_btn);\n",
    "document.body.appendChild(my_div);\n",
    "\n",
    "var base64data = 0;\n",
    "var reader;\n",
    "var recorder, gumStream;\n",
    "var recordButton = my_btn;\n",
    "\n",
    "var handleSuccess = function(stream) {\n",
    "  gumStream = stream;\n",
    "  var options = {\n",
    "    //bitsPerSecond: 8000, //chrome seems to ignore, always 48k\n",
    "    mimeType : 'audio/webm;codecs=opus'\n",
    "    //mimeType : 'audio/webm;codecs=pcm'\n",
    "  };            \n",
    "  //recorder = new MediaRecorder(stream, options);\n",
    "  recorder = new MediaRecorder(stream);\n",
    "  recorder.ondataavailable = function(e) {            \n",
    "    var url = URL.createObjectURL(e.data);\n",
    "    var preview = document.createElement('audio');\n",
    "    preview.controls = true;\n",
    "    preview.src = url;\n",
    "    document.body.appendChild(preview);\n",
    "\n",
    "    reader = new FileReader();\n",
    "    reader.readAsDataURL(e.data); \n",
    "    reader.onloadend = function() {\n",
    "      base64data = reader.result;\n",
    "      //console.log(\"Inside FileReader:\" + base64data);\n",
    "    }\n",
    "  };\n",
    "  recorder.start();\n",
    "  };\n",
    "\n",
    "recordButton.innerText = \"Recording... press to stop\";\n",
    "\n",
    "navigator.mediaDevices.getUserMedia({audio: true}).then(handleSuccess);\n",
    "\n",
    "\n",
    "function toggleRecording() {\n",
    "  if (recorder && recorder.state == \"recording\") {\n",
    "      recorder.stop();\n",
    "      gumStream.getAudioTracks()[0].stop();\n",
    "      recordButton.innerText = \"Saving the recording... pls wait!\"\n",
    "  }\n",
    "}\n",
    "\n",
    "// https://stackoverflow.com/a/951057\n",
    "function sleep(ms) {\n",
    "  return new Promise(resolve => setTimeout(resolve, ms));\n",
    "}\n",
    "\n",
    "var data = new Promise(resolve=>{\n",
    "//recordButton.addEventListener(\"click\", toggleRecording);\n",
    "recordButton.onclick = ()=>{\n",
    "toggleRecording()\n",
    "\n",
    "sleep(2000).then(() => {\n",
    "  // wait 2000ms for the data to be available...\n",
    "  // ideally this should use something like await...\n",
    "  //console.log(\"Inside data:\" + base64data)\n",
    "  resolve(base64data.toString())\n",
    "\n",
    "});\n",
    "\n",
    "}\n",
    "});\n",
    "      \n",
    "</script>\n",
    "\"\"\"\n",
    "\n",
    "def get_audio():\n",
    "  display(HTML(AUDIO_HTML))\n",
    "  data = eval_js(\"data\")\n",
    "  binary = b64decode(data.split(',')[1])\n",
    "  \n",
    "  process = (ffmpeg\n",
    "    .input('pipe:0')\n",
    "    .output('pipe:1', format='wav')\n",
    "    .run_async(pipe_stdin=True, pipe_stdout=True, pipe_stderr=True, quiet=True, overwrite_output=True)\n",
    "  )\n",
    "  output, err = process.communicate(input=binary)\n",
    "  \n",
    "  riff_chunk_size = len(output) - 8\n",
    "  # Break up the chunk size into four bytes, held in b.\n",
    "  q = riff_chunk_size\n",
    "  b = []\n",
    "  for i in range(4):\n",
    "      q, r = divmod(q, 256)\n",
    "      b.append(r)\n",
    "\n",
    "  # Replace bytes 4:8 in proc.stdout with the actual size of the RIFF chunk.\n",
    "  riff = output[:4] + bytes(b) + output[8:]\n",
    "\n",
    "  sr, audio = wav_read(io.BytesIO(riff))\n",
    "\n",
    "  return audio, sr"
   ]
  },
  {
   "cell_type": "markdown",
   "id": "10db4efa",
   "metadata": {},
   "source": [
    "## 👉 Transcrever no Idioma Original $x$ ($x$ $\\to$ $x$)"
   ]
  },
  {
   "cell_type": "code",
   "execution_count": null,
   "id": "18e2b0b8",
   "metadata": {},
   "outputs": [],
   "source": [
    "!whisper \"audio.mp3\" --task transcribe --model large --verbose False --output_dir legenda"
   ]
  },
  {
   "cell_type": "markdown",
   "id": "8eefd8a8",
   "metadata": {},
   "source": [
    "## 👉  Traduzir o áudio em um idioma $x$ para o inglês ($x$ $\\to$ English)"
   ]
  },
  {
   "cell_type": "code",
   "execution_count": null,
   "id": "4ac554aa",
   "metadata": {},
   "outputs": [],
   "source": [
    "!whisper \"audio.mp3\" --task translate --model base --verbose False --output_dir traducao"
   ]
  },
  {
   "cell_type": "markdown",
   "id": "e2931ab8",
   "metadata": {},
   "source": [
    "##👉 Transcrever ou traduzir multiplos áudios\n"
   ]
  },
  {
   "cell_type": "code",
   "execution_count": null,
   "id": "09dfd347",
   "metadata": {},
   "outputs": [],
   "source": [
    "import os\n",
    "audios=[]\n",
    "mode=input(\"Deseja transcrever (transcribe) ou traduzir (translate)? \")\n",
    "quality=input(\"Qual modo de qualidade você deseja? (tiny,base,small,medium,large) \")\n",
    "for j in os.listdir():\n",
    "  if j[-4:]==\".mp3\": audios.append(j)\n",
    "copiar=open(\"copiar.txt\",\"w\")\n",
    "for k in audios:\n",
    "  if mode==\"transcribe\": \n",
    "    copiar.write(f\"!whisper {k} --task transcribe --model {quality} --verbose False --output_dir legendas\\n\")\n",
    "  elif mode==\"translate\":\n",
    "    copiar.write(f\"!whisper {k} --task translate --model {quality} --verbose False --output_dir traducoes\\n\")\n",
    "  elif mode not in [\"transcribe\",\"translate\"]:\n",
    "    print(\"modo não reconhecido\")\n",
    "copiar.close()"
   ]
  },
  {
   "cell_type": "markdown",
   "id": "d284f4a9",
   "metadata": {},
   "source": [
    "## Rodar o código gerado na etapa anterior"
   ]
  },
  {
   "cell_type": "code",
   "execution_count": null,
   "id": "187a5298",
   "metadata": {},
   "outputs": [],
   "source": []
  }
 ],
 "metadata": {
  "kernelspec": {
   "display_name": "Python 3 (ipykernel)",
   "language": "python",
   "name": "python3"
  },
  "language_info": {
   "codemirror_mode": {
    "name": "ipython",
    "version": 3
   },
   "file_extension": ".py",
   "mimetype": "text/x-python",
   "name": "python",
   "nbconvert_exporter": "python",
   "pygments_lexer": "ipython3",
   "version": "3.9.12"
  }
 },
 "nbformat": 4,
 "nbformat_minor": 5
}
